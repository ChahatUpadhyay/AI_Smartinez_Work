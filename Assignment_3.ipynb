{
  "nbformat": 4,
  "nbformat_minor": 0,
  "metadata": {
    "colab": {
      "provenance": [],
      "gpuType": "T4",
      "authorship_tag": "ABX9TyM5XLH/ElvfEH9eQOR3aEpA",
      "include_colab_link": true
    },
    "kernelspec": {
      "name": "python3",
      "display_name": "Python 3"
    },
    "language_info": {
      "name": "python"
    },
    "accelerator": "GPU"
  },
  "cells": [
    {
      "cell_type": "markdown",
      "metadata": {
        "id": "view-in-github",
        "colab_type": "text"
      },
      "source": [
        "<a href=\"https://colab.research.google.com/github/ChahatUpadhyay/AI_Smartinez_Work/blob/main/Assignment_3.ipynb\" target=\"_parent\"><img src=\"https://colab.research.google.com/assets/colab-badge.svg\" alt=\"Open In Colab\"/></a>"
      ]
    },
    {
      "cell_type": "code",
      "execution_count": null,
      "metadata": {
        "colab": {
          "base_uri": "https://localhost:8080/"
        },
        "id": "SvgFpUb8sXfB",
        "outputId": "e31bc750-de27-4a40-8b10-b5c97bf0355b"
      },
      "outputs": [
        {
          "output_type": "stream",
          "name": "stdout",
          "text": [
            "Requirement already satisfied: kaggle in /usr/local/lib/python3.11/dist-packages (1.7.4.2)\n",
            "Requirement already satisfied: bleach in /usr/local/lib/python3.11/dist-packages (from kaggle) (6.2.0)\n",
            "Requirement already satisfied: certifi>=14.05.14 in /usr/local/lib/python3.11/dist-packages (from kaggle) (2025.1.31)\n",
            "Requirement already satisfied: charset-normalizer in /usr/local/lib/python3.11/dist-packages (from kaggle) (3.4.1)\n",
            "Requirement already satisfied: idna in /usr/local/lib/python3.11/dist-packages (from kaggle) (3.10)\n",
            "Requirement already satisfied: protobuf in /usr/local/lib/python3.11/dist-packages (from kaggle) (5.29.3)\n",
            "Requirement already satisfied: python-dateutil>=2.5.3 in /usr/local/lib/python3.11/dist-packages (from kaggle) (2.8.2)\n",
            "Requirement already satisfied: python-slugify in /usr/local/lib/python3.11/dist-packages (from kaggle) (8.0.4)\n",
            "Requirement already satisfied: requests in /usr/local/lib/python3.11/dist-packages (from kaggle) (2.32.3)\n",
            "Requirement already satisfied: setuptools>=21.0.0 in /usr/local/lib/python3.11/dist-packages (from kaggle) (75.1.0)\n",
            "Requirement already satisfied: six>=1.10 in /usr/local/lib/python3.11/dist-packages (from kaggle) (1.17.0)\n",
            "Requirement already satisfied: text-unidecode in /usr/local/lib/python3.11/dist-packages (from kaggle) (1.3)\n",
            "Requirement already satisfied: tqdm in /usr/local/lib/python3.11/dist-packages (from kaggle) (4.67.1)\n",
            "Requirement already satisfied: urllib3>=1.15.1 in /usr/local/lib/python3.11/dist-packages (from kaggle) (2.3.0)\n",
            "Requirement already satisfied: webencodings in /usr/local/lib/python3.11/dist-packages (from kaggle) (0.5.1)\n"
          ]
        }
      ],
      "source": [
        "!pip install kaggle"
      ]
    },
    {
      "cell_type": "code",
      "source": [
        "import tensorflow as tf\n",
        "from tensorflow.keras.models import Sequential\n",
        "from tensorflow.keras.layers import Conv2D, MaxPooling2D, Flatten, Dense, Dropout\n",
        "from tensorflow.keras.preprocessing.image import ImageDataGenerator\n",
        "import matplotlib.pyplot as plt\n",
        "import numpy as np\n",
        "import os\n",
        "from google.colab import files\n",
        "from keras.preprocessing import image"
      ],
      "metadata": {
        "id": "jJAhx6pftNuX"
      },
      "execution_count": null,
      "outputs": []
    },
    {
      "cell_type": "code",
      "source": [
        "# configuring the path of Kaggle.json file\n",
        "!mkdir -p ~/.kaggle\n",
        "!cp kaggle.json ~/.kaggle/\n",
        "!chmod 600 ~/.kaggle/kaggle.json"
      ],
      "metadata": {
        "id": "bbsrkVFwsbAU"
      },
      "execution_count": null,
      "outputs": []
    },
    {
      "cell_type": "code",
      "source": [
        "!kaggle datasets list\n"
      ],
      "metadata": {
        "colab": {
          "base_uri": "https://localhost:8080/"
        },
        "id": "nMmxUz3jzndz",
        "outputId": "db09fcaa-e022-40b1-e5da-0aba4735cc11"
      },
      "execution_count": null,
      "outputs": [
        {
          "output_type": "stream",
          "name": "stdout",
          "text": [
            "ref                                                           title                                                     size  lastUpdated                 downloadCount  voteCount  usabilityRating  \n",
            "------------------------------------------------------------  --------------------------------------------------  ----------  --------------------------  -------------  ---------  ---------------  \n",
            "atharvasoundankar/chocolate-sales                             Chocolate Sales Data 📊🍫                                  14473  2025-03-19 03:51:40.270000          10508        183  1.0              \n",
            "abdulmalik1518/mobiles-dataset-2025                           Mobiles Dataset (2025)                                   20314  2025-02-18 06:50:24.370000          16563        281  1.0              \n",
            "adilshamim8/student-depression-dataset                        Student Depression Dataset                              467020  2025-03-13 03:12:30.423000           3112         56  1.0              \n",
            "mahmoudelhemaly/students-grading-dataset                      Student Performance & Behavior Dataset                  520428  2025-02-17 17:38:46.653000          11713        184  1.0              \n",
            "amanrajput16/used-car-price-data-from-cars24                  Used Cars Market Analysis:Scraped Data from Cars24       22591  2025-03-08 11:40:03.327000           1174         23  1.0              \n",
            "bhargavchirumamilla/netflix-movies-and-tv-shows-till-2025     Netflix Movies and TV shows till 2025                  6471169  2025-03-04 01:06:12.240000           1952         30  1.0              \n",
            "atharvasoundankar/global-cybersecurity-threats-2015-2024      🌐 Global Cybersecurity Threats (2015-2024)               48178  2025-03-16 04:23:13.343000           1004         27  1.0              \n",
            "abdulmoiz12/amazon-stock-data-2025                            Amazon Stock Data 2025                                  160519  2025-03-01 09:08:07.890000           1512         30  1.0              \n",
            "ankushpanday2/heart-attack-prediction-in-indonesia            Heart Attack Prediction in Indonesia                   5398776  2025-03-11 15:19:28.123000            891         25  1.0              \n",
            "zahidmughal2343/employee-data                                 Employee Data                                           379143  2025-03-08 19:36:42.953000           1409         26  1.0              \n",
            "shohinurpervezshohan/freelancer-earnings-and-job-trends       Freelancer Earnings & Job Trends                         52906  2025-03-08 07:21:46.633000           1366         29  0.9411765        \n",
            "ricgomes/global-fashion-retail-stores-dataset                 Global Fashion Retail Sales                          234910599  2025-03-19 18:37:15.857000           1748         29  1.0              \n",
            "aradhanahirapara/income-survey-finance-analysis               Income Survey | Finance Analysis                       1826775  2025-03-20 19:53:01.633000           1064         24  0.7647059        \n",
            "willianoliveiragibin/grocery-inventory                        Grocery Inventory                                        50801  2025-03-16 21:03:55.307000           1037         28  1.0              \n",
            "mahatiratusher/flight-price-dataset-of-bangladesh             Flight Price Dataset of Bangladesh                     3506315  2025-03-04 04:08:49.600000           1125         24  0.9411765        \n",
            "maicolab/university-admission                                 Student performance on the entrance exam                376010  2025-03-02 17:13:46.457000            826         23  1.0              \n",
            "shantanugarg274/heart-prediction-dataset-quantum              Heart Prediction Dataset (Quantum)                        6993  2025-02-28 14:00:06.887000           1236         26  1.0              \n",
            "atharvasoundankar/global-water-consumption-dataset-2000-2024  Global Water Consumption Dataset (2000-2024) 🌍💧          17077  2025-03-17 04:50:38.880000           2175         35  1.0              \n",
            "hrish4/cpi-inflation-analysis-and-forecasting                 CPI - INFLATION ANALYSIS📈🚀 and FORECASTING 🔎            224082  2025-03-08 18:06:29.383000            532         21  1.0              \n",
            "anandshaw2001/video-game-sales                                Video Game Sales                                        390286  2025-02-23 05:16:04.587000           2467         73  1.0              \n"
          ]
        }
      ]
    },
    {
      "cell_type": "code",
      "source": [
        "!kaggle datasets download -d iamsouravbanerjee/animal-image-dataset-90-different-animals"
      ],
      "metadata": {
        "id": "D7OGrWBDv300",
        "colab": {
          "base_uri": "https://localhost:8080/"
        },
        "outputId": "9c0c650f-d9d3-4a64-c0e1-ad29270a6575"
      },
      "execution_count": null,
      "outputs": [
        {
          "output_type": "stream",
          "name": "stdout",
          "text": [
            "Dataset URL: https://www.kaggle.com/datasets/iamsouravbanerjee/animal-image-dataset-90-different-animals\n",
            "License(s): other\n",
            "animal-image-dataset-90-different-animals.zip: Skipping, found more recently modified local copy (use --force to force download)\n"
          ]
        }
      ]
    },
    {
      "cell_type": "code",
      "source": [
        "import zipfile\n",
        "with zipfile.ZipFile('animal-image-dataset-90-different-animals.zip', 'r') as zip_ref:\n",
        "    zip_ref.extractall('animal_dataset')\n"
      ],
      "metadata": {
        "id": "xuczfX3Z2K9n"
      },
      "execution_count": null,
      "outputs": []
    },
    {
      "cell_type": "code",
      "source": [
        "import tensorflow as tf\n",
        "from tensorflow.keras.models import Sequential\n",
        "from tensorflow.keras.layers import Conv2D, MaxPooling2D, Flatten, Dense, Dropout, BatchNormalization\n",
        "from tensorflow.keras.preprocessing.image import ImageDataGenerator\n",
        "import matplotlib.pyplot as plt\n",
        "\n",
        "# ---------------------------\n",
        "# Enhanced Data Augmentation\n",
        "# ---------------------------\n",
        "train_datagen = ImageDataGenerator(\n",
        "    rescale=1./255,\n",
        "    rotation_range=20,\n",
        "    width_shift_range=0.2,\n",
        "    height_shift_range=0.2,\n",
        "    shear_range=0.2,\n",
        "    zoom_range=0.2,\n",
        "    horizontal_flip=True,\n",
        "    brightness_range=[0.8,1.2],\n",
        "    fill_mode='nearest',\n",
        "    validation_split=0.2\n",
        ")\n",
        "\n",
        "# Increased image size for better feature extraction\n",
        "IMG_SIZE = (200, 200)\n",
        "BATCH_SIZE = 32\n",
        "\n",
        "train_generator = train_datagen.flow_from_directory(\n",
        "    '/content/animal_dataset/animals/animals',\n",
        "    target_size=IMG_SIZE,\n",
        "    batch_size=BATCH_SIZE,\n",
        "    class_mode='categorical',\n",
        "    subset='training'\n",
        ")\n",
        "\n",
        "validation_generator = train_datagen.flow_from_directory(\n",
        "    '/content/animal_dataset/animals/animals',\n",
        "    target_size=IMG_SIZE,\n",
        "    batch_size=BATCH_SIZE,\n",
        "    class_mode='categorical',\n",
        "    subset='validation'\n",
        ")\n",
        "\n",
        "# ---------------------------\n",
        "# Improved CNN Architecture\n",
        "# ---------------------------\n",
        "model = Sequential()\n",
        "\n",
        "# Input layer\n",
        "model.add(Conv2D(64, (3, 3), activation='relu', padding='same', input_shape=IMG_SIZE + (3,)))\n",
        "model.add(BatchNormalization())\n",
        "model.add(MaxPooling2D(2, 2))\n",
        "model.add(Dropout(0.3))\n",
        "\n",
        "# Additional Conv-Pool block\n",
        "model.add(Conv2D(128, (3, 3), activation='relu', padding='same'))\n",
        "model.add(BatchNormalization())\n",
        "model.add(MaxPooling2D(2, 2))\n",
        "model.add(Dropout(0.4))\n",
        "\n",
        "# Flatten layer\n",
        "model.add(Flatten())\n",
        "\n",
        "# Hidden layers with better regularization\n",
        "model.add(Dense(256, activation='relu', kernel_initializer='he_normal'))\n",
        "model.add(BatchNormalization())\n",
        "model.add(Dropout(0.5))\n",
        "\n",
        "model.add(Dense(128, activation='relu', kernel_initializer='he_normal'))\n",
        "model.add(Dropout(0.4))\n",
        "\n",
        "# Output layer\n",
        "model.add(Dense(90, activation='softmax'))\n",
        "\n",
        "# Optimized learning rate and compilation\n",
        "optimizer = tf.keras.optimizers.Adam(learning_rate=0.001)\n",
        "model.compile(optimizer=optimizer,\n",
        "              loss='categorical_crossentropy',\n",
        "              metrics=['accuracy'])\n",
        "\n",
        "model.summary()\n",
        "\n",
        "# ---------------------------\n",
        "# Enhanced Training with Callbacks\n",
        "# ---------------------------\n",
        "callbacks = [\n",
        "    tf.keras.callbacks.ReduceLROnPlateau(monitor='val_loss', factor=0.2, patience=3),\n",
        "    tf.keras.callbacks.EarlyStopping(monitor='val_loss', patience=5, restore_best_weights=True)\n",
        "]\n",
        "\n",
        "history = model.fit(\n",
        "    train_generator,\n",
        "    epochs=30,\n",
        "    validation_data=validation_generator,\n",
        "    callbacks=callbacks,\n",
        "    steps_per_epoch=len(train_generator),\n",
        "    validation_steps=len(validation_generator)\n",
        ")\n",
        "\n",
        "# ---------------------------\n",
        "# Model Evaluation\n",
        "# ---------------------------\n",
        "# Plot training history\n",
        "plt.figure(figsize=(12, 5))\n",
        "plt.subplot(1, 2, 1)\n",
        "plt.plot(history.history['accuracy'], label='Train Accuracy')\n",
        "plt.plot(history.history['val_accuracy'], label='Validation Accuracy')\n",
        "plt.title('Accuracy Curves')\n",
        "plt.legend()\n",
        "\n",
        "plt.subplot(1, 2, 2)\n",
        "plt.plot(history.history['loss'], label='Train Loss')\n",
        "plt.plot(history.history['val_loss'], label='Validation Loss')\n",
        "plt.title('Loss Curves')\n",
        "plt.legend()\n",
        "plt.show()\n",
        "\n",
        "# Final evaluation\n",
        "test_loss, test_acc = model.evaluate(validation_generator)\n",
        "print(f\"\\nFinal Validation Accuracy: {test_acc:.2%}\")\n",
        "print(f\"Final Validation Loss: {test_loss:.4f}\")\n",
        "\n",
        "# Prediction function\n",
        "def predict_animal(img_path):\n",
        "    img = tf.keras.utils.load_img(img_path, target_size=IMG_SIZE)\n",
        "    img_array = tf.keras.utils.img_to_array(img)/255.\n",
        "    img_array = tf.expand_dims(img_array, 0)\n",
        "\n",
        "    predictions = model.predict(img_array)\n",
        "    predicted_class = train_generator.class_indices.inverse()[np.argmax(predictions)]\n",
        "\n",
        "    plt.imshow(img)\n",
        "    plt.title(f\"Predicted: {predicted_class}\")\n",
        "    plt.axis('off')\n",
        "    return predicted_class\n",
        "\n",
        "# Test with sample image\n",
        "uploaded = files.upload()\n",
        "for fn in uploaded.keys():\n",
        "    print(predict_animal(f'/content/{fn}'))"
      ],
      "metadata": {
        "id": "zmSydy-UwAv5",
        "colab": {
          "base_uri": "https://localhost:8080/",
          "height": 1000
        },
        "outputId": "9e89f4d4-76ca-4eb7-9b4c-7fb6a55729a7",
        "collapsed": true
      },
      "execution_count": null,
      "outputs": [
        {
          "output_type": "stream",
          "name": "stdout",
          "text": [
            "Found 4320 images belonging to 90 classes.\n",
            "Found 1080 images belonging to 90 classes.\n",
            "Downloading data from https://storage.googleapis.com/tensorflow/keras-applications/mobilenet_v2/mobilenet_v2_weights_tf_dim_ordering_tf_kernels_1.0_224_no_top.h5\n",
            "\u001b[1m9406464/9406464\u001b[0m \u001b[32m━━━━━━━━━━━━━━━━━━━━\u001b[0m\u001b[37m\u001b[0m \u001b[1m0s\u001b[0m 0us/step\n"
          ]
        },
        {
          "output_type": "display_data",
          "data": {
            "text/plain": [
              "\u001b[1mModel: \"sequential\"\u001b[0m\n"
            ],
            "text/html": [
              "<pre style=\"white-space:pre;overflow-x:auto;line-height:normal;font-family:Menlo,'DejaVu Sans Mono',consolas,'Courier New',monospace\"><span style=\"font-weight: bold\">Model: \"sequential\"</span>\n",
              "</pre>\n"
            ]
          },
          "metadata": {}
        },
        {
          "output_type": "display_data",
          "data": {
            "text/plain": [
              "┏━━━━━━━━━━━━━━━━━━━━━━━━━━━━━━━━━━━━━━┳━━━━━━━━━━━━━━━━━━━━━━━━━━━━━┳━━━━━━━━━━━━━━━━━┓\n",
              "┃\u001b[1m \u001b[0m\u001b[1mLayer (type)                        \u001b[0m\u001b[1m \u001b[0m┃\u001b[1m \u001b[0m\u001b[1mOutput Shape               \u001b[0m\u001b[1m \u001b[0m┃\u001b[1m \u001b[0m\u001b[1m        Param #\u001b[0m\u001b[1m \u001b[0m┃\n",
              "┡━━━━━━━━━━━━━━━━━━━━━━━━━━━━━━━━━━━━━━╇━━━━━━━━━━━━━━━━━━━━━━━━━━━━━╇━━━━━━━━━━━━━━━━━┩\n",
              "│ mobilenetv2_1.00_224 (\u001b[38;5;33mFunctional\u001b[0m)    │ (\u001b[38;5;45mNone\u001b[0m, \u001b[38;5;34m7\u001b[0m, \u001b[38;5;34m7\u001b[0m, \u001b[38;5;34m1280\u001b[0m)          │       \u001b[38;5;34m2,257,984\u001b[0m │\n",
              "├──────────────────────────────────────┼─────────────────────────────┼─────────────────┤\n",
              "│ global_average_pooling2d             │ (\u001b[38;5;45mNone\u001b[0m, \u001b[38;5;34m1280\u001b[0m)                │               \u001b[38;5;34m0\u001b[0m │\n",
              "│ (\u001b[38;5;33mGlobalAveragePooling2D\u001b[0m)             │                             │                 │\n",
              "├──────────────────────────────────────┼─────────────────────────────┼─────────────────┤\n",
              "│ dense (\u001b[38;5;33mDense\u001b[0m)                        │ (\u001b[38;5;45mNone\u001b[0m, \u001b[38;5;34m256\u001b[0m)                 │         \u001b[38;5;34m327,936\u001b[0m │\n",
              "├──────────────────────────────────────┼─────────────────────────────┼─────────────────┤\n",
              "│ dropout (\u001b[38;5;33mDropout\u001b[0m)                    │ (\u001b[38;5;45mNone\u001b[0m, \u001b[38;5;34m256\u001b[0m)                 │               \u001b[38;5;34m0\u001b[0m │\n",
              "├──────────────────────────────────────┼─────────────────────────────┼─────────────────┤\n",
              "│ dense_1 (\u001b[38;5;33mDense\u001b[0m)                      │ (\u001b[38;5;45mNone\u001b[0m, \u001b[38;5;34m128\u001b[0m)                 │          \u001b[38;5;34m32,896\u001b[0m │\n",
              "├──────────────────────────────────────┼─────────────────────────────┼─────────────────┤\n",
              "│ dropout_1 (\u001b[38;5;33mDropout\u001b[0m)                  │ (\u001b[38;5;45mNone\u001b[0m, \u001b[38;5;34m128\u001b[0m)                 │               \u001b[38;5;34m0\u001b[0m │\n",
              "├──────────────────────────────────────┼─────────────────────────────┼─────────────────┤\n",
              "│ dense_2 (\u001b[38;5;33mDense\u001b[0m)                      │ (\u001b[38;5;45mNone\u001b[0m, \u001b[38;5;34m90\u001b[0m)                  │          \u001b[38;5;34m11,610\u001b[0m │\n",
              "└──────────────────────────────────────┴─────────────────────────────┴─────────────────┘\n"
            ],
            "text/html": [
              "<pre style=\"white-space:pre;overflow-x:auto;line-height:normal;font-family:Menlo,'DejaVu Sans Mono',consolas,'Courier New',monospace\">┏━━━━━━━━━━━━━━━━━━━━━━━━━━━━━━━━━━━━━━┳━━━━━━━━━━━━━━━━━━━━━━━━━━━━━┳━━━━━━━━━━━━━━━━━┓\n",
              "┃<span style=\"font-weight: bold\"> Layer (type)                         </span>┃<span style=\"font-weight: bold\"> Output Shape                </span>┃<span style=\"font-weight: bold\">         Param # </span>┃\n",
              "┡━━━━━━━━━━━━━━━━━━━━━━━━━━━━━━━━━━━━━━╇━━━━━━━━━━━━━━━━━━━━━━━━━━━━━╇━━━━━━━━━━━━━━━━━┩\n",
              "│ mobilenetv2_1.00_224 (<span style=\"color: #0087ff; text-decoration-color: #0087ff\">Functional</span>)    │ (<span style=\"color: #00d7ff; text-decoration-color: #00d7ff\">None</span>, <span style=\"color: #00af00; text-decoration-color: #00af00\">7</span>, <span style=\"color: #00af00; text-decoration-color: #00af00\">7</span>, <span style=\"color: #00af00; text-decoration-color: #00af00\">1280</span>)          │       <span style=\"color: #00af00; text-decoration-color: #00af00\">2,257,984</span> │\n",
              "├──────────────────────────────────────┼─────────────────────────────┼─────────────────┤\n",
              "│ global_average_pooling2d             │ (<span style=\"color: #00d7ff; text-decoration-color: #00d7ff\">None</span>, <span style=\"color: #00af00; text-decoration-color: #00af00\">1280</span>)                │               <span style=\"color: #00af00; text-decoration-color: #00af00\">0</span> │\n",
              "│ (<span style=\"color: #0087ff; text-decoration-color: #0087ff\">GlobalAveragePooling2D</span>)             │                             │                 │\n",
              "├──────────────────────────────────────┼─────────────────────────────┼─────────────────┤\n",
              "│ dense (<span style=\"color: #0087ff; text-decoration-color: #0087ff\">Dense</span>)                        │ (<span style=\"color: #00d7ff; text-decoration-color: #00d7ff\">None</span>, <span style=\"color: #00af00; text-decoration-color: #00af00\">256</span>)                 │         <span style=\"color: #00af00; text-decoration-color: #00af00\">327,936</span> │\n",
              "├──────────────────────────────────────┼─────────────────────────────┼─────────────────┤\n",
              "│ dropout (<span style=\"color: #0087ff; text-decoration-color: #0087ff\">Dropout</span>)                    │ (<span style=\"color: #00d7ff; text-decoration-color: #00d7ff\">None</span>, <span style=\"color: #00af00; text-decoration-color: #00af00\">256</span>)                 │               <span style=\"color: #00af00; text-decoration-color: #00af00\">0</span> │\n",
              "├──────────────────────────────────────┼─────────────────────────────┼─────────────────┤\n",
              "│ dense_1 (<span style=\"color: #0087ff; text-decoration-color: #0087ff\">Dense</span>)                      │ (<span style=\"color: #00d7ff; text-decoration-color: #00d7ff\">None</span>, <span style=\"color: #00af00; text-decoration-color: #00af00\">128</span>)                 │          <span style=\"color: #00af00; text-decoration-color: #00af00\">32,896</span> │\n",
              "├──────────────────────────────────────┼─────────────────────────────┼─────────────────┤\n",
              "│ dropout_1 (<span style=\"color: #0087ff; text-decoration-color: #0087ff\">Dropout</span>)                  │ (<span style=\"color: #00d7ff; text-decoration-color: #00d7ff\">None</span>, <span style=\"color: #00af00; text-decoration-color: #00af00\">128</span>)                 │               <span style=\"color: #00af00; text-decoration-color: #00af00\">0</span> │\n",
              "├──────────────────────────────────────┼─────────────────────────────┼─────────────────┤\n",
              "│ dense_2 (<span style=\"color: #0087ff; text-decoration-color: #0087ff\">Dense</span>)                      │ (<span style=\"color: #00d7ff; text-decoration-color: #00d7ff\">None</span>, <span style=\"color: #00af00; text-decoration-color: #00af00\">90</span>)                  │          <span style=\"color: #00af00; text-decoration-color: #00af00\">11,610</span> │\n",
              "└──────────────────────────────────────┴─────────────────────────────┴─────────────────┘\n",
              "</pre>\n"
            ]
          },
          "metadata": {}
        },
        {
          "output_type": "display_data",
          "data": {
            "text/plain": [
              "\u001b[1m Total params: \u001b[0m\u001b[38;5;34m2,630,426\u001b[0m (10.03 MB)\n"
            ],
            "text/html": [
              "<pre style=\"white-space:pre;overflow-x:auto;line-height:normal;font-family:Menlo,'DejaVu Sans Mono',consolas,'Courier New',monospace\"><span style=\"font-weight: bold\"> Total params: </span><span style=\"color: #00af00; text-decoration-color: #00af00\">2,630,426</span> (10.03 MB)\n",
              "</pre>\n"
            ]
          },
          "metadata": {}
        },
        {
          "output_type": "display_data",
          "data": {
            "text/plain": [
              "\u001b[1m Trainable params: \u001b[0m\u001b[38;5;34m372,442\u001b[0m (1.42 MB)\n"
            ],
            "text/html": [
              "<pre style=\"white-space:pre;overflow-x:auto;line-height:normal;font-family:Menlo,'DejaVu Sans Mono',consolas,'Courier New',monospace\"><span style=\"font-weight: bold\"> Trainable params: </span><span style=\"color: #00af00; text-decoration-color: #00af00\">372,442</span> (1.42 MB)\n",
              "</pre>\n"
            ]
          },
          "metadata": {}
        },
        {
          "output_type": "display_data",
          "data": {
            "text/plain": [
              "\u001b[1m Non-trainable params: \u001b[0m\u001b[38;5;34m2,257,984\u001b[0m (8.61 MB)\n"
            ],
            "text/html": [
              "<pre style=\"white-space:pre;overflow-x:auto;line-height:normal;font-family:Menlo,'DejaVu Sans Mono',consolas,'Courier New',monospace\"><span style=\"font-weight: bold\"> Non-trainable params: </span><span style=\"color: #00af00; text-decoration-color: #00af00\">2,257,984</span> (8.61 MB)\n",
              "</pre>\n"
            ]
          },
          "metadata": {}
        },
        {
          "output_type": "stream",
          "name": "stderr",
          "text": [
            "/usr/local/lib/python3.11/dist-packages/keras/src/trainers/data_adapters/py_dataset_adapter.py:121: UserWarning: Your `PyDataset` class should call `super().__init__(**kwargs)` in its constructor. `**kwargs` can include `workers`, `use_multiprocessing`, `max_queue_size`. Do not pass these arguments to `fit()`, as they will be ignored.\n",
            "  self._warn_if_super_not_called()\n"
          ]
        },
        {
          "output_type": "stream",
          "name": "stdout",
          "text": [
            "Epoch 1/30\n",
            "\u001b[1m135/135\u001b[0m \u001b[32m━━━━━━━━━━━━━━━━━━━━\u001b[0m\u001b[37m\u001b[0m \u001b[1m119s\u001b[0m 793ms/step - accuracy: 0.0122 - loss: 4.6884 - val_accuracy: 0.0546 - val_loss: 4.3806 - learning_rate: 1.0000e-04\n",
            "Epoch 2/30\n",
            "\u001b[1m135/135\u001b[0m \u001b[32m━━━━━━━━━━━━━━━━━━━━\u001b[0m\u001b[37m\u001b[0m \u001b[1m129s\u001b[0m 743ms/step - accuracy: 0.0274 - loss: 4.4306 - val_accuracy: 0.1194 - val_loss: 4.2645 - learning_rate: 1.0000e-04\n",
            "Epoch 3/30\n",
            "\u001b[1m135/135\u001b[0m \u001b[32m━━━━━━━━━━━━━━━━━━━━\u001b[0m\u001b[37m\u001b[0m \u001b[1m139s\u001b[0m 721ms/step - accuracy: 0.0504 - loss: 4.2960 - val_accuracy: 0.2417 - val_loss: 4.0200 - learning_rate: 1.0000e-04\n",
            "Epoch 4/30\n",
            "\u001b[1m135/135\u001b[0m \u001b[32m━━━━━━━━━━━━━━━━━━━━\u001b[0m\u001b[37m\u001b[0m \u001b[1m91s\u001b[0m 675ms/step - accuracy: 0.0952 - loss: 4.0863 - val_accuracy: 0.3787 - val_loss: 3.6383 - learning_rate: 1.0000e-04\n",
            "Epoch 5/30\n",
            "\u001b[1m135/135\u001b[0m \u001b[32m━━━━━━━━━━━━━━━━━━━━\u001b[0m\u001b[37m\u001b[0m \u001b[1m91s\u001b[0m 676ms/step - accuracy: 0.1634 - loss: 3.7673 - val_accuracy: 0.4741 - val_loss: 3.1352 - learning_rate: 1.0000e-04\n",
            "Epoch 6/30\n",
            "\u001b[1m135/135\u001b[0m \u001b[32m━━━━━━━━━━━━━━━━━━━━\u001b[0m\u001b[37m\u001b[0m \u001b[1m144s\u001b[0m 690ms/step - accuracy: 0.2209 - loss: 3.4139 - val_accuracy: 0.5361 - val_loss: 2.6571 - learning_rate: 1.0000e-04\n",
            "Epoch 7/30\n",
            "\u001b[1m135/135\u001b[0m \u001b[32m━━━━━━━━━━━━━━━━━━━━\u001b[0m\u001b[37m\u001b[0m \u001b[1m93s\u001b[0m 690ms/step - accuracy: 0.2902 - loss: 3.0835 - val_accuracy: 0.5991 - val_loss: 2.2769 - learning_rate: 1.0000e-04\n",
            "Epoch 8/30\n",
            "\u001b[1m135/135\u001b[0m \u001b[32m━━━━━━━━━━━━━━━━━━━━\u001b[0m\u001b[37m\u001b[0m \u001b[1m143s\u001b[0m 705ms/step - accuracy: 0.3639 - loss: 2.7499 - val_accuracy: 0.6287 - val_loss: 1.9967 - learning_rate: 1.0000e-04\n",
            "Epoch 9/30\n",
            "\u001b[1m135/135\u001b[0m \u001b[32m━━━━━━━━━━━━━━━━━━━━\u001b[0m\u001b[37m\u001b[0m \u001b[1m144s\u001b[0m 716ms/step - accuracy: 0.3865 - loss: 2.5231 - val_accuracy: 0.6417 - val_loss: 1.7952 - learning_rate: 1.0000e-04\n",
            "Epoch 10/30\n",
            "\u001b[1m135/135\u001b[0m \u001b[32m━━━━━━━━━━━━━━━━━━━━\u001b[0m\u001b[37m\u001b[0m \u001b[1m94s\u001b[0m 695ms/step - accuracy: 0.4211 - loss: 2.3380 - val_accuracy: 0.6602 - val_loss: 1.6500 - learning_rate: 1.0000e-04\n",
            "Epoch 11/30\n",
            "\u001b[1m135/135\u001b[0m \u001b[32m━━━━━━━━━━━━━━━━━━━━\u001b[0m\u001b[37m\u001b[0m \u001b[1m144s\u001b[0m 705ms/step - accuracy: 0.4550 - loss: 2.2204 - val_accuracy: 0.6917 - val_loss: 1.5263 - learning_rate: 1.0000e-04\n",
            "Epoch 12/30\n",
            "\u001b[1m135/135\u001b[0m \u001b[32m━━━━━━━━━━━━━━━━━━━━\u001b[0m\u001b[37m\u001b[0m \u001b[1m94s\u001b[0m 700ms/step - accuracy: 0.4927 - loss: 2.0351 - val_accuracy: 0.7019 - val_loss: 1.4315 - learning_rate: 1.0000e-04\n",
            "Epoch 13/30\n",
            "\u001b[1m135/135\u001b[0m \u001b[32m━━━━━━━━━━━━━━━━━━━━\u001b[0m\u001b[37m\u001b[0m \u001b[1m141s\u001b[0m 695ms/step - accuracy: 0.4788 - loss: 1.9851 - val_accuracy: 0.7204 - val_loss: 1.3453 - learning_rate: 1.0000e-04\n",
            "Epoch 14/30\n",
            "\u001b[1m135/135\u001b[0m \u001b[32m━━━━━━━━━━━━━━━━━━━━\u001b[0m\u001b[37m\u001b[0m \u001b[1m94s\u001b[0m 695ms/step - accuracy: 0.5299 - loss: 1.8268 - val_accuracy: 0.7102 - val_loss: 1.2997 - learning_rate: 1.0000e-04\n",
            "Epoch 15/30\n",
            "\u001b[1m135/135\u001b[0m \u001b[32m━━━━━━━━━━━━━━━━━━━━\u001b[0m\u001b[37m\u001b[0m \u001b[1m141s\u001b[0m 690ms/step - accuracy: 0.5469 - loss: 1.7680 - val_accuracy: 0.7213 - val_loss: 1.2458 - learning_rate: 1.0000e-04\n",
            "Epoch 16/30\n",
            "\u001b[1m135/135\u001b[0m \u001b[32m━━━━━━━━━━━━━━━━━━━━\u001b[0m\u001b[37m\u001b[0m \u001b[1m92s\u001b[0m 683ms/step - accuracy: 0.5542 - loss: 1.6899 - val_accuracy: 0.7278 - val_loss: 1.2055 - learning_rate: 1.0000e-04\n",
            "Epoch 17/30\n",
            "\u001b[1m135/135\u001b[0m \u001b[32m━━━━━━━━━━━━━━━━━━━━\u001b[0m\u001b[37m\u001b[0m \u001b[1m143s\u001b[0m 687ms/step - accuracy: 0.5964 - loss: 1.5938 - val_accuracy: 0.7139 - val_loss: 1.1837 - learning_rate: 1.0000e-04\n",
            "Epoch 18/30\n",
            "\u001b[1m135/135\u001b[0m \u001b[32m━━━━━━━━━━━━━━━━━━━━\u001b[0m\u001b[37m\u001b[0m \u001b[1m92s\u001b[0m 681ms/step - accuracy: 0.5991 - loss: 1.5586 - val_accuracy: 0.7435 - val_loss: 1.1297 - learning_rate: 1.0000e-04\n",
            "Epoch 19/30\n",
            "\u001b[1m135/135\u001b[0m \u001b[32m━━━━━━━━━━━━━━━━━━━━\u001b[0m\u001b[37m\u001b[0m \u001b[1m93s\u001b[0m 688ms/step - accuracy: 0.6076 - loss: 1.4807 - val_accuracy: 0.7361 - val_loss: 1.0908 - learning_rate: 1.0000e-04\n",
            "Epoch 20/30\n",
            "\u001b[1m135/135\u001b[0m \u001b[32m━━━━━━━━━━━━━━━━━━━━\u001b[0m\u001b[37m\u001b[0m \u001b[1m90s\u001b[0m 670ms/step - accuracy: 0.6057 - loss: 1.4745 - val_accuracy: 0.7398 - val_loss: 1.1014 - learning_rate: 1.0000e-04\n",
            "Epoch 21/30\n",
            "\u001b[1m135/135\u001b[0m \u001b[32m━━━━━━━━━━━━━━━━━━━━\u001b[0m\u001b[37m\u001b[0m \u001b[1m141s\u001b[0m 664ms/step - accuracy: 0.6331 - loss: 1.3782 - val_accuracy: 0.7407 - val_loss: 1.0291 - learning_rate: 1.0000e-04\n",
            "Epoch 22/30\n",
            "\u001b[1m135/135\u001b[0m \u001b[32m━━━━━━━━━━━━━━━━━━━━\u001b[0m\u001b[37m\u001b[0m \u001b[1m93s\u001b[0m 687ms/step - accuracy: 0.6308 - loss: 1.3739 - val_accuracy: 0.7444 - val_loss: 1.0245 - learning_rate: 1.0000e-04\n",
            "Epoch 23/30\n",
            "\u001b[1m135/135\u001b[0m \u001b[32m━━━━━━━━━━━━━━━━━━━━\u001b[0m\u001b[37m\u001b[0m \u001b[1m137s\u001b[0m 654ms/step - accuracy: 0.6599 - loss: 1.2782 - val_accuracy: 0.7426 - val_loss: 1.0175 - learning_rate: 1.0000e-04\n",
            "Epoch 24/30\n",
            "\u001b[1m135/135\u001b[0m \u001b[32m━━━━━━━━━━━━━━━━━━━━\u001b[0m\u001b[37m\u001b[0m \u001b[1m89s\u001b[0m 663ms/step - accuracy: 0.6630 - loss: 1.2635 - val_accuracy: 0.7509 - val_loss: 0.9865 - learning_rate: 1.0000e-04\n",
            "Epoch 25/30\n",
            "\u001b[1m135/135\u001b[0m \u001b[32m━━━━━━━━━━━━━━━━━━━━\u001b[0m\u001b[37m\u001b[0m \u001b[1m93s\u001b[0m 690ms/step - accuracy: 0.6504 - loss: 1.3092 - val_accuracy: 0.7593 - val_loss: 0.9853 - learning_rate: 1.0000e-04\n",
            "Epoch 26/30\n",
            "\u001b[1m135/135\u001b[0m \u001b[32m━━━━━━━━━━━━━━━━━━━━\u001b[0m\u001b[37m\u001b[0m \u001b[1m89s\u001b[0m 663ms/step - accuracy: 0.6606 - loss: 1.2576 - val_accuracy: 0.7750 - val_loss: 0.9175 - learning_rate: 1.0000e-04\n",
            "Epoch 27/30\n",
            "\u001b[1m135/135\u001b[0m \u001b[32m━━━━━━━━━━━━━━━━━━━━\u001b[0m\u001b[37m\u001b[0m \u001b[1m91s\u001b[0m 673ms/step - accuracy: 0.6613 - loss: 1.2617 - val_accuracy: 0.7528 - val_loss: 0.9896 - learning_rate: 1.0000e-04\n",
            "Epoch 28/30\n",
            "\u001b[1m135/135\u001b[0m \u001b[32m━━━━━━━━━━━━━━━━━━━━\u001b[0m\u001b[37m\u001b[0m \u001b[1m139s\u001b[0m 654ms/step - accuracy: 0.6827 - loss: 1.1751 - val_accuracy: 0.7593 - val_loss: 0.9432 - learning_rate: 1.0000e-04\n",
            "Epoch 29/30\n",
            "\u001b[1m135/135\u001b[0m \u001b[32m━━━━━━━━━━━━━━━━━━━━\u001b[0m\u001b[37m\u001b[0m \u001b[1m89s\u001b[0m 660ms/step - accuracy: 0.6629 - loss: 1.2126 - val_accuracy: 0.7630 - val_loss: 0.9227 - learning_rate: 1.0000e-04\n",
            "Epoch 30/30\n",
            "\u001b[1m135/135\u001b[0m \u001b[32m━━━━━━━━━━━━━━━━━━━━\u001b[0m\u001b[37m\u001b[0m \u001b[1m142s\u001b[0m 662ms/step - accuracy: 0.6951 - loss: 1.1405 - val_accuracy: 0.7639 - val_loss: 0.9027 - learning_rate: 2.0000e-05\n",
            "\u001b[1m34/34\u001b[0m \u001b[32m━━━━━━━━━━━━━━━━━━━━\u001b[0m\u001b[37m\u001b[0m \u001b[1m18s\u001b[0m 542ms/step - accuracy: 0.7675 - loss: 0.9584\n",
            "\n",
            "Test accuracy: 75.83%\n",
            "Test loss: 0.9380\n"
          ]
        },
        {
          "output_type": "display_data",
          "data": {
            "text/plain": [
              "<Figure size 1200x400 with 2 Axes>"
            ],
            "image/png": "[encoded data removed]"
          },
          "metadata": {}
        }
      ]
    },
    {
      "cell_type": "code",
      "source": [],
      "metadata": {
        "id": "YO80gRh73ABM"
      },
      "execution_count": null,
      "outputs": []
    }
  ]
}